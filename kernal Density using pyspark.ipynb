{
 "cells": [
  {
   "cell_type": "code",
   "execution_count": 1,
   "metadata": {},
   "outputs": [],
   "source": [
    "%matplotlib inline\n",
    "import findspark\n",
    "findspark.init('C:\\spark\\spark')\n",
    "from pyspark import SparkContext \n",
    "from pyspark.sql import SQLContext \n",
    "import pandas as pd \n",
    "from pyspark.mllib.regression import LabeledPoint\n",
    "from pyspark.mllib.feature import StandardScaler\n",
    "import matplotlib.pyplot as plt\n",
    "from numpy import *"
   ]
  },
  {
   "cell_type": "code",
   "execution_count": 2,
   "metadata": {},
   "outputs": [],
   "source": [
    "sc = SparkContext('local','NIDS')\n",
    "sqlc=SQLContext(sc) \n",
    "df=pd.read_csv(r'UNSW_NB15_training-set.csv') \n",
    "sdf=sqlc.createDataFrame(df)\n",
    "_df = sdf.select(\"trans_depth\").toPandas()"
   ]
  },
  {
   "cell_type": "code",
   "execution_count": 26,
   "metadata": {},
   "outputs": [],
   "source": [
    "mean = 0.105982\n",
    "stdv =0.776911"
   ]
  },
  {
   "cell_type": "code",
   "execution_count": 5,
   "metadata": {},
   "outputs": [],
   "source": [
    "##1.0 Simulated Data\n",
    "N=175341\n",
    "mu, sigma = mean, stdv # mean and standard deviation\n",
    "rdd = sc.parallelize( random.normal(mu,sigma,N) )\n",
    " \n",
    "##2.0 The Function\n",
    "#2.1 Kernel Function\n",
    " \n",
    "def spark_density(data, Nout, bw):\n",
    "    def epan_kernel(x,y,b):\n",
    "        u=true_divide( (x-y), b)\n",
    "        return max(0, true_divide( 1, b)*true_divide(3,4)*(1-u**2))     \n",
    " \n",
    "    #derive the minia and maxi used for interpolation\n",
    "    mini=data.takeOrdered(1, lambda x: x )\n",
    "    maxi=data.takeOrdered(1, lambda x: -1*x )\n",
    "    #create an interpolation grid (in fact NOT random this time)\n",
    "    random_grid = sc.parallelize( linspace(mini, maxi, num=Nout))\n",
    "    Nin=data.count()\n",
    "    #compute K(x-xi) Matrix\n",
    "    kernl=data.cartesian(random_grid).map(lambda x:( float(x[1]),true_divide(epan_kernel(array(x[0]),array(x[1]),bw),Nin) ) )\n",
    "    #sum up \n",
    "    return kernl.reduceByKey( lambda y, x:  y+x )\n",
    " \n",
    "##3.0 Results\n",
    "density= spark_density(rdd, 128, 0.8).collect()\n",
    "dens=array(density).transpose()\n"
   ]
  },
  {
   "cell_type": "code",
   "execution_count": 33,
   "metadata": {},
   "outputs": [
    {
     "data": {
      "image/png": "[encoded data removed]",
      "text/plain": [
       "<Figure size 432x288 with 1 Axes>"
      ]
     },
     "metadata": {
      "needs_background": "light"
     },
     "output_type": "display_data"
    }
   ],
   "source": [
    "#Plot the estimate\n",
    "plt.plot(dens[0], dens[1], 'bo')\n",
    "plt.title(\"Estimate Density(blue)/True Density(red)\")\n",
    "axis2=linspace(-1, 1,num = 128)\n",
    "#plot the true density\n",
    "plt.plot(axis2, 1/(sigma*sqrt(2*pi))*exp(-(axis2-mu)**2/(2*sigma**2)),linewidth=2,color='r')\n",
    "plt.show()"
   ]
  },
  {
   "cell_type": "code",
   "execution_count": 24,
   "metadata": {},
   "outputs": [],
   "source": []
  },
  {
   "cell_type": "code",
   "execution_count": null,
   "metadata": {},
   "outputs": [],
   "source": []
  },
  {
   "cell_type": "code",
   "execution_count": null,
   "metadata": {},
   "outputs": [],
   "source": []
  },
  {
   "cell_type": "code",
   "execution_count": null,
   "metadata": {},
   "outputs": [],
   "source": []
  },
  {
   "cell_type": "code",
   "execution_count": null,
   "metadata": {},
   "outputs": [],
   "source": []
  },
  {
   "cell_type": "code",
   "execution_count": null,
   "metadata": {},
   "outputs": [],
   "source": []
  },
  {
   "cell_type": "code",
   "execution_count": null,
   "metadata": {},
   "outputs": [],
   "source": []
  },
  {
   "cell_type": "code",
   "execution_count": null,
   "metadata": {},
   "outputs": [],
   "source": []
  }
 ],
 "metadata": {
  "kernelspec": {
   "display_name": "Python 3",
   "language": "python",
   "name": "python3"
  },
  "language_info": {
   "codemirror_mode": {
    "name": "ipython",
    "version": 3
   },
   "file_extension": ".py",
   "mimetype": "text/x-python",
   "name": "python",
   "nbconvert_exporter": "python",
   "pygments_lexer": "ipython3",
   "version": "3.7.1"
  }
 },
 "nbformat": 4,
 "nbformat_minor": 2
}
